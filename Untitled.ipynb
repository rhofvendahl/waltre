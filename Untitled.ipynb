{
 "cells": [
  {
   "cell_type": "code",
   "execution_count": null,
   "metadata": {},
   "outputs": [],
   "source": [
    "# Feelings when your needs are satisfied\n",
    "affectionate = 0\n",
    "engaged = 0\n",
    "hopeful = 0\n",
    "confident = 0\n",
    "excited = 0\n",
    "grateful = 0\n",
    "inspired = 0\n",
    "joyful = 0\n",
    "exhilirated = 0\n",
    "peaceful = 0\n",
    "refreshed = 0\n",
    "\n",
    "# Feelings when your needs are not satisfied\n",
    "afraid = 0\n",
    "annoyed = 0\n",
    "angry = 0\n",
    "aversion = 0\n",
    "confused = 0\n",
    "disconnected = 0\n",
    "disquiet = 0\n",
    "emberassed = 0\n",
    "fatigue = 0\n",
    "pain = 0\n",
    "sad = 0\n",
    "tense = 0\n",
    "vulnerable = 0\n",
    "yearning = 0"
   ]
  },
  {
   "cell_type": "code",
   "execution_count": null,
   "metadata": {},
   "outputs": [],
   "source": [
    "# Needs\n",
    "connection = 0\n",
    "physical wellbeing = 0\n",
    "honesty = 0\n",
    "play = 0\n",
    "peace = 0\n",
    "autonomy = 0\n",
    "meaning = 0"
   ]
  },
  {
   "cell_type": "code",
   "execution_count": 1,
   "metadata": {},
   "outputs": [
    {
     "name": "stdout",
     "output_type": "stream",
     "text": [
      "3.6.5 |Anaconda, Inc.| (default, Apr 29 2018, 16:14:56) \n",
      "[GCC 7.2.0]\n"
     ]
    }
   ],
   "source": [
    "import sys\n",
    "print(sys.version)"
   ]
  },
  {
   "cell_type": "code",
   "execution_count": null,
   "metadata": {},
   "outputs": [],
   "source": []
  }
 ],
 "metadata": {
  "kernelspec": {
   "display_name": "Python 3",
   "language": "python",
   "name": "python3"
  },
  "language_info": {
   "codemirror_mode": {
    "name": "ipython",
    "version": 3
   },
   "file_extension": ".py",
   "mimetype": "text/x-python",
   "name": "python",
   "nbconvert_exporter": "python",
   "pygments_lexer": "ipython3",
   "version": "3.6.5"
  }
 },
 "nbformat": 4,
 "nbformat_minor": 2
}
