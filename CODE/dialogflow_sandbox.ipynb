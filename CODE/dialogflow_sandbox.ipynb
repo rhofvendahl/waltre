{
 "cells": [
  {
   "cell_type": "code",
   "execution_count": 1,
   "metadata": {
    "scrolled": true
   },
   "outputs": [
    {
     "name": "stdout",
     "output_type": "stream",
     "text": [
      "Requirement already satisfied: dialogflow in /home/russell/anaconda3/lib/python3.6/site-packages (0.5.1)\n",
      "Requirement already satisfied: googleapis-common-protos[grpc]<2.0dev,>=1.5.2 in /home/russell/anaconda3/lib/python3.6/site-packages (from dialogflow) (1.5.3)\n",
      "Requirement already satisfied: google-api-core[grpc]<2.0.0dev,>=0.1.4 in /home/russell/anaconda3/lib/python3.6/site-packages (from dialogflow) (1.4.1)\n",
      "Requirement already satisfied: protobuf>=3.0.0 in /home/russell/.local/lib/python3.6/site-packages (from googleapis-common-protos[grpc]<2.0dev,>=1.5.2->dialogflow) (3.6.1)\n",
      "Requirement already satisfied: grpcio>=1.0.0; extra == \"grpc\" in /home/russell/.local/lib/python3.6/site-packages (from googleapis-common-protos[grpc]<2.0dev,>=1.5.2->dialogflow) (1.15.0)\n",
      "Requirement already satisfied: requests<3.0.0dev,>=2.18.0 in /home/russell/anaconda3/lib/python3.6/site-packages (from google-api-core[grpc]<2.0.0dev,>=0.1.4->dialogflow) (2.18.4)\n",
      "Requirement already satisfied: pytz in /home/russell/.local/lib/python3.6/site-packages (from google-api-core[grpc]<2.0.0dev,>=0.1.4->dialogflow) (2018.5)\n",
      "Requirement already satisfied: six>=1.10.0 in /home/russell/.local/lib/python3.6/site-packages (from google-api-core[grpc]<2.0.0dev,>=0.1.4->dialogflow) (1.11.0)\n",
      "Requirement already satisfied: google-auth<2.0.0dev,>=0.4.0 in /home/russell/anaconda3/lib/python3.6/site-packages (from google-api-core[grpc]<2.0.0dev,>=0.1.4->dialogflow) (1.5.1)\n",
      "Requirement already satisfied: setuptools>=34.0.0 in /home/russell/.local/lib/python3.6/site-packages (from google-api-core[grpc]<2.0.0dev,>=0.1.4->dialogflow) (40.4.3)\n",
      "Requirement already satisfied: chardet<3.1.0,>=3.0.2 in /home/russell/anaconda3/lib/python3.6/site-packages (from requests<3.0.0dev,>=2.18.0->google-api-core[grpc]<2.0.0dev,>=0.1.4->dialogflow) (3.0.4)\n",
      "Requirement already satisfied: idna<2.7,>=2.5 in /home/russell/anaconda3/lib/python3.6/site-packages (from requests<3.0.0dev,>=2.18.0->google-api-core[grpc]<2.0.0dev,>=0.1.4->dialogflow) (2.6)\n",
      "Requirement already satisfied: urllib3<1.23,>=1.21.1 in /home/russell/anaconda3/lib/python3.6/site-packages (from requests<3.0.0dev,>=2.18.0->google-api-core[grpc]<2.0.0dev,>=0.1.4->dialogflow) (1.22)\n",
      "Requirement already satisfied: certifi>=2017.4.17 in /home/russell/anaconda3/lib/python3.6/site-packages (from requests<3.0.0dev,>=2.18.0->google-api-core[grpc]<2.0.0dev,>=0.1.4->dialogflow) (2018.4.16)\n",
      "Requirement already satisfied: pyasn1-modules>=0.2.1 in /home/russell/anaconda3/lib/python3.6/site-packages (from google-auth<2.0.0dev,>=0.4.0->google-api-core[grpc]<2.0.0dev,>=0.1.4->dialogflow) (0.2.2)\n",
      "Requirement already satisfied: cachetools>=2.0.0 in /home/russell/anaconda3/lib/python3.6/site-packages (from google-auth<2.0.0dev,>=0.4.0->google-api-core[grpc]<2.0.0dev,>=0.1.4->dialogflow) (2.1.0)\n",
      "Requirement already satisfied: rsa>=3.1.4 in /home/russell/anaconda3/lib/python3.6/site-packages (from google-auth<2.0.0dev,>=0.4.0->google-api-core[grpc]<2.0.0dev,>=0.1.4->dialogflow) (4.0)\n",
      "Requirement already satisfied: pyasn1<0.5.0,>=0.4.1 in /home/russell/anaconda3/lib/python3.6/site-packages (from pyasn1-modules>=0.2.1->google-auth<2.0.0dev,>=0.4.0->google-api-core[grpc]<2.0.0dev,>=0.1.4->dialogflow) (0.4.4)\n",
      "\u001b[31mdistributed 1.21.8 requires msgpack, which is not installed.\u001b[0m\n",
      "\u001b[31mtensorflow 1.11.0 has requirement setuptools<=39.1.0, but you'll have setuptools 40.4.3 which is incompatible.\u001b[0m\n",
      "\u001b[33mYou are using pip version 10.0.1, however version 18.1 is available.\n",
      "You should consider upgrading via the 'pip install --upgrade pip' command.\u001b[0m\n"
     ]
    }
   ],
   "source": [
    "!pip install dialogflow"
   ]
  },
  {
   "cell_type": "code",
   "execution_count": 2,
   "metadata": {},
   "outputs": [],
   "source": [
    "import dialogflow"
   ]
  },
  {
   "cell_type": "markdown",
   "metadata": {},
   "source": [
    "## code from https://dialogflow-python-client-v2.readthedocs.io/en/latest/?#using-dialogflow"
   ]
  },
  {
   "cell_type": "code",
   "execution_count": 5,
   "metadata": {},
   "outputs": [],
   "source": [
    "# Managing Intents\n",
    "def create_intent(project_id, display_name, training_phrases_parts,\n",
    "                  message_texts):\n",
    "    \"\"\"Create an intent of the given intent type.\"\"\"\n",
    "    import dialogflow_v2 as dialogflow\n",
    "    intents_client = dialogflow.IntentsClient()\n",
    "\n",
    "    parent = intents_client.project_agent_path(project_id)\n",
    "    training_phrases = []\n",
    "    for training_phrases_part in training_phrases_parts:\n",
    "        part = dialogflow.types.Intent.TrainingPhrase.Part(\n",
    "            text=training_phrases_part)\n",
    "        # Here we create a new training phrase for each provided part.\n",
    "        training_phrase = dialogflow.types.Intent.TrainingPhrase(parts=[part])\n",
    "        training_phrases.append(training_phrase)\n",
    "\n",
    "    text = dialogflow.types.Intent.Message.Text(text=message_texts)\n",
    "    message = dialogflow.types.Intent.Message(text=text)\n",
    "\n",
    "    intent = dialogflow.types.Intent(\n",
    "        display_name=display_name,\n",
    "        training_phrases=training_phrases,\n",
    "        messages=[message])\n",
    "\n",
    "    response = intents_client.create_intent(parent, intent)\n",
    "\n",
    "    print('Intent created: {}'.format(response))\n",
    "    \n",
    "def delete_intent(project_id, intent_id):\n",
    "    \"\"\"Delete intent with the given intent type and intent value.\"\"\"\n",
    "    import dialogflow_v2 as dialogflow\n",
    "    intents_client = dialogflow.IntentsClient()\n",
    "\n",
    "    intent_path = intents_client.intent_path(project_id, intent_id)\n",
    "\n",
    "    intents_client.delete_intent(intent_path)"
   ]
  },
  {
   "cell_type": "code",
   "execution_count": 4,
   "metadata": {},
   "outputs": [],
   "source": [
    "# Managing Entities\n",
    "def create_entity(project_id, entity_type_id, entity_value, synonyms):\n",
    "    \"\"\"Create an entity of the given entity type.\"\"\"\n",
    "    import dialogflow_v2 as dialogflow\n",
    "    entity_types_client = dialogflow.EntityTypesClient()\n",
    "\n",
    "    # Note: synonyms must be exactly [entity_value] if the\n",
    "    # entity_type's kind is KIND_LIST\n",
    "    synonyms = synonyms or [entity_value]\n",
    "\n",
    "    entity_type_path = entity_types_client.entity_type_path(\n",
    "        project_id, entity_type_id)\n",
    "\n",
    "    entity = dialogflow.types.EntityType.Entity()\n",
    "    entity.value = entity_value\n",
    "    entity.synonyms.extend(synonyms)\n",
    "\n",
    "    response = entity_types_client.batch_create_entities(\n",
    "        entity_type_path, [entity])\n",
    "\n",
    "    print('Entity created: {}'.format(response))\n",
    "    \n",
    "def delete_entity(project_id, entity_type_id, entity_value):\n",
    "    \"\"\"Delete entity with the given entity type and entity value.\"\"\"\n",
    "    import dialogflow_v2 as dialogflow\n",
    "    entity_types_client = dialogflow.EntityTypesClient()\n",
    "\n",
    "    entity_type_path = entity_types_client.entity_type_path(\n",
    "        project_id, entity_type_id)\n",
    "\n",
    "    entity_types_client.batch_delete_entities(\n",
    "        entity_type_path, [entity_value])"
   ]
  },
  {
   "cell_type": "code",
   "execution_count": null,
   "metadata": {},
   "outputs": [],
   "source": [
    "create_entity(waltre-sandbox, )"
   ]
  }
 ],
 "metadata": {
  "kernelspec": {
   "display_name": "Python 3",
   "language": "python",
   "name": "python3"
  },
  "language_info": {
   "codemirror_mode": {
    "name": "ipython",
    "version": 3
   },
   "file_extension": ".py",
   "mimetype": "text/x-python",
   "name": "python",
   "nbconvert_exporter": "python",
   "pygments_lexer": "ipython3",
   "version": "3.6.5"
  }
 },
 "nbformat": 4,
 "nbformat_minor": 2
}
