{
 "cells": [
  {
   "cell_type": "code",
   "execution_count": 1,
   "metadata": {},
   "outputs": [],
   "source": [
    "import pandas as pd\n",
    "import os.path\n",
    "root_path = os.path.dirname(os.getcwd())\n",
    "\n",
    "# Import video data (thanks Cowen & Keltner!)\n",
    "video_data = pd.read_csv(os.path.join(root_path, \"DATA/video_data.csv\"))"
   ]
  },
  {
   "cell_type": "code",
   "execution_count": 47,
   "metadata": {},
   "outputs": [],
   "source": [
    "# Separate out 34 emotion category scores, downcase column names\n",
    "# Fraction of respondents who chose from multiple-select\n",
    "video_category_data = video_data.iloc[:, 1:35]\n",
    "\n",
    "# Separate out 14 affective dimension scores\n",
    "# 1-9 ratings\n",
    "video_dimension_data = video_data.iloc[:, 35:49]\n",
    "\n",
    "# Separate 600 free response term scores\n",
    "# Fraction of respondants who chose from multiple-select dropdown\n",
    "video_term_data = video_data.iloc[:, 49:]\n",
    "\n",
    "# Get 27 distinct emotion category scores\n",
    "# ???\n",
    "video_distinct_category_data = video_category_data.drop"
   ]
  },
  {
   "cell_type": "code",
   "execution_count": 49,
   "metadata": {},
   "outputs": [],
   "source": [
    "# Select distinct category scores\n",
    "# Subset of category scores\n",
    "video_distinct_category_data = video_data[[\n",
    "    \"Admiration\",\n",
    "    \"Adoration\",\n",
    "    \"Aesthetic Appreciation\",\n",
    "    \"Amusement\",\n",
    "    \"Anger\",\n",
    "    \"Anxiety\",\n",
    "    \"Awe\",\n",
    "    \"Awkwardness\",\n",
    "    \"Boredom\",\n",
    "    \"Calmness\",\n",
    "    \"Confusion\",\n",
    "    \"Craving\",\n",
    "    \"Disgust\",\n",
    "    \"Empathic Pain\",\n",
    "    \"Entrancement\",\n",
    "    \"Excitement\",\n",
    "    \"Fear\",\n",
    "    \"Horror\",\n",
    "    \"Interest\",\n",
    "    \"Joy\",\n",
    "    \"Nostalgia\",\n",
    "    \"Relief\",\n",
    "    \"Romance\",\n",
    "    \"Sadness\",\n",
    "    \"Satisfaction\",\n",
    "    \"Surprise\"\n",
    "]]"
   ]
  },
  {
   "cell_type": "code",
   "execution_count": 3,
   "metadata": {
    "collapsed": true
   },
   "outputs": [
    {
     "name": "stdout",
     "output_type": "stream",
     "text": [
      "Requirement already satisfied: spacy in /home/russell/anaconda3/lib/python3.6/site-packages (2.0.12)\n",
      "Requirement already satisfied: murmurhash<0.29,>=0.28 in /home/russell/anaconda3/lib/python3.6/site-packages (from spacy) (0.28.0)\n",
      "Requirement already satisfied: regex==2017.4.5 in /home/russell/anaconda3/lib/python3.6/site-packages (from spacy) (2017.4.5)\n",
      "Requirement already satisfied: requests<3.0.0,>=2.13.0 in /home/russell/anaconda3/lib/python3.6/site-packages (from spacy) (2.18.4)\n",
      "Requirement already satisfied: ujson>=1.35 in /home/russell/anaconda3/lib/python3.6/site-packages (from spacy) (1.35)\n",
      "Requirement already satisfied: dill<0.3,>=0.2 in /home/russell/anaconda3/lib/python3.6/site-packages (from spacy) (0.2.8.2)\n",
      "Requirement already satisfied: thinc<6.11.0,>=6.10.3 in /home/russell/anaconda3/lib/python3.6/site-packages (from spacy) (6.10.3)\n",
      "Requirement already satisfied: cymem<1.32,>=1.30 in /home/russell/anaconda3/lib/python3.6/site-packages (from spacy) (1.31.2)\n",
      "Requirement already satisfied: preshed<2.0.0,>=1.0.0 in /home/russell/anaconda3/lib/python3.6/site-packages (from spacy) (1.0.1)\n",
      "Requirement already satisfied: plac<1.0.0,>=0.9.6 in /home/russell/anaconda3/lib/python3.6/site-packages (from spacy) (0.9.6)\n",
      "Requirement already satisfied: numpy>=1.7 in /home/russell/.local/lib/python3.6/site-packages (from spacy) (1.15.2)\n",
      "Requirement already satisfied: chardet<3.1.0,>=3.0.2 in /home/russell/anaconda3/lib/python3.6/site-packages (from requests<3.0.0,>=2.13.0->spacy) (3.0.4)\n",
      "Requirement already satisfied: idna<2.7,>=2.5 in /home/russell/anaconda3/lib/python3.6/site-packages (from requests<3.0.0,>=2.13.0->spacy) (2.6)\n",
      "Requirement already satisfied: urllib3<1.23,>=1.21.1 in /home/russell/anaconda3/lib/python3.6/site-packages (from requests<3.0.0,>=2.13.0->spacy) (1.22)\n",
      "Requirement already satisfied: certifi>=2017.4.17 in /home/russell/anaconda3/lib/python3.6/site-packages (from requests<3.0.0,>=2.13.0->spacy) (2018.4.16)\n",
      "Requirement already satisfied: six<2.0.0,>=1.10.0 in /home/russell/.local/lib/python3.6/site-packages (from thinc<6.11.0,>=6.10.3->spacy) (1.11.0)\n",
      "Requirement already satisfied: wrapt<1.11.0,>=1.10.0 in /home/russell/anaconda3/lib/python3.6/site-packages (from thinc<6.11.0,>=6.10.3->spacy) (1.10.11)\n",
      "Requirement already satisfied: cytoolz<0.10,>=0.9.0 in /home/russell/anaconda3/lib/python3.6/site-packages (from thinc<6.11.0,>=6.10.3->spacy) (0.9.0.1)\n",
      "Requirement already satisfied: tqdm<5.0.0,>=4.10.0 in /home/russell/anaconda3/lib/python3.6/site-packages (from thinc<6.11.0,>=6.10.3->spacy) (4.26.0)\n",
      "Requirement already satisfied: msgpack-numpy<1.0.0,>=0.4.1 in /home/russell/anaconda3/lib/python3.6/site-packages (from thinc<6.11.0,>=6.10.3->spacy) (0.4.4.1)\n",
      "Requirement already satisfied: msgpack<1.0.0,>=0.5.6 in /home/russell/anaconda3/lib/python3.6/site-packages (from thinc<6.11.0,>=6.10.3->spacy) (0.5.6)\n",
      "Requirement already satisfied: toolz>=0.8.0 in /home/russell/anaconda3/lib/python3.6/site-packages (from cytoolz<0.10,>=0.9.0->thinc<6.11.0,>=6.10.3->spacy) (0.9.0)\n",
      "\u001b[31mtensorflow 1.11.0 has requirement setuptools<=39.1.0, but you'll have setuptools 40.4.3 which is incompatible.\u001b[0m\n",
      "\u001b[33mYou are using pip version 10.0.1, however version 18.1 is available.\n",
      "You should consider upgrading via the 'pip install --upgrade pip' command.\u001b[0m\n"
     ]
    }
   ],
   "source": [
    "# Install and import Spacy natural language utility\n",
    "!pip install spacy\n",
    "import spacy"
   ]
  },
  {
   "cell_type": "code",
   "execution_count": 4,
   "metadata": {},
   "outputs": [
    {
     "name": "stdout",
     "output_type": "stream",
     "text": [
      "Requirement already satisfied: en_core_web_md==2.0.0 from https://github.com/explosion/spacy-models/releases/download/en_core_web_md-2.0.0/en_core_web_md-2.0.0.tar.gz#egg=en_core_web_md==2.0.0 in /home/russell/anaconda3/lib/python3.6/site-packages (2.0.0)\n",
      "\u001b[33mYou are using pip version 10.0.1, however version 18.1 is available.\n",
      "You should consider upgrading via the 'pip install --upgrade pip' command.\u001b[0m\n",
      "\n",
      "\u001b[93m    Linking successful\u001b[0m\n",
      "    /home/russell/anaconda3/lib/python3.6/site-packages/en_core_web_md -->\n",
      "    /home/russell/anaconda3/lib/python3.6/site-packages/spacy/data/en_core_web_md\n",
      "\n",
      "    You can now load the model via spacy.load('en_core_web_md')\n",
      "\n"
     ]
    }
   ],
   "source": [
    "# Load large english language model\n",
    "!python -m spacy download en_core_web_md\n",
    "nlp = spacy.load('en_core_web_lg')"
   ]
  },
  {
   "cell_type": "code",
   "execution_count": 5,
   "metadata": {},
   "outputs": [
    {
     "name": "stdout",
     "output_type": "stream",
     "text": [
      "Requirement already satisfied: autocorrect in /home/russell/anaconda3/lib/python3.6/site-packages (0.3.0)\n",
      "\u001b[31mtensorflow 1.11.0 has requirement setuptools<=39.1.0, but you'll have setuptools 40.4.3 which is incompatible.\u001b[0m\n",
      "\u001b[33mYou are using pip version 10.0.1, however version 18.1 is available.\n",
      "You should consider upgrading via the 'pip install --upgrade pip' command.\u001b[0m\n"
     ]
    }
   ],
   "source": [
    "# Install and import spelling corrector\n",
    "!pip install autocorrect\n",
    "from autocorrect import spell\n",
    "\n",
    "# Define function to normalize phrase\n",
    "def normalize(text):\n",
    "    return ' '.join([spell(word) for word in text.split()])\n",
    "\n",
    "# Define function to lemmatize phrase\n",
    "def lemmatize(text):\n",
    "    return ' '.join([token.lemma_ for token in nlp(text)])"
   ]
  },
  {
   "cell_type": "code",
   "execution_count": 27,
   "metadata": {},
   "outputs": [
    {
     "data": {
      "text/html": [
       "<div>\n",
       "<style scoped>\n",
       "    .dataframe tbody tr th:only-of-type {\n",
       "        vertical-align: middle;\n",
       "    }\n",
       "\n",
       "    .dataframe tbody tr th {\n",
       "        vertical-align: top;\n",
       "    }\n",
       "\n",
       "    .dataframe thead th {\n",
       "        text-align: right;\n",
       "    }\n",
       "</style>\n",
       "<table border=\"1\" class=\"dataframe\">\n",
       "  <thead>\n",
       "    <tr style=\"text-align: right;\">\n",
       "      <th></th>\n",
       "      <th>term</th>\n",
       "      <th>term_lemma</th>\n",
       "      <th>term_doc</th>\n",
       "    </tr>\n",
       "  </thead>\n",
       "  <tbody>\n",
       "    <tr>\n",
       "      <th>0</th>\n",
       "      <td>a surge of pride</td>\n",
       "      <td>a surge of pride</td>\n",
       "      <td>(a, surge, of, pride)</td>\n",
       "    </tr>\n",
       "    <tr>\n",
       "      <th>1</th>\n",
       "      <td>abhorrence</td>\n",
       "      <td>abhorrence</td>\n",
       "      <td>(abhorrence)</td>\n",
       "    </tr>\n",
       "    <tr>\n",
       "      <th>2</th>\n",
       "      <td>admiration</td>\n",
       "      <td>admiration</td>\n",
       "      <td>(admiration)</td>\n",
       "    </tr>\n",
       "    <tr>\n",
       "      <th>3</th>\n",
       "      <td>adoration</td>\n",
       "      <td>adoration</td>\n",
       "      <td>(adoration)</td>\n",
       "    </tr>\n",
       "    <tr>\n",
       "      <th>4</th>\n",
       "      <td>adrenaline rush</td>\n",
       "      <td>adrenaline rush</td>\n",
       "      <td>(adrenaline, rush)</td>\n",
       "    </tr>\n",
       "  </tbody>\n",
       "</table>\n",
       "</div>"
      ],
      "text/plain": [
       "               term        term_lemma               term_doc\n",
       "0  a surge of pride  a surge of pride  (a, surge, of, pride)\n",
       "1        abhorrence        abhorrence           (abhorrence)\n",
       "2        admiration        admiration           (admiration)\n",
       "3         adoration         adoration            (adoration)\n",
       "4   adrenaline rush   adrenaline rush     (adrenaline, rush)"
      ]
     },
     "execution_count": 27,
     "metadata": {},
     "output_type": "execute_result"
    }
   ],
   "source": [
    "# Create dataframe for terms, lemmas, docs\n",
    "term_data = pd.DataFrame([])\n",
    "term_data['term'] = video_term_data.columns\n",
    "term_data['term_lemma'] = term_data['term'].apply(lemmatize)\n",
    "term_data['term_doc'] = term_data['term_lemma'].apply(nlp)\n",
    "term_data.head()"
   ]
  },
  {
   "cell_type": "code",
   "execution_count": 79,
   "metadata": {},
   "outputs": [],
   "source": [
    "# NOT USED\n",
    "import math\n",
    "\n",
    "def normalize_vector(vector):\n",
    "    magnitude = math.sqrt((vector * vector).sum())\n",
    "    print(magnitude)\n",
    "    return vector / magnitude"
   ]
  },
  {
   "cell_type": "code",
   "execution_count": 150,
   "metadata": {},
   "outputs": [],
   "source": [
    "# Define function to get term vector from phrase\n",
    "def get_term_from_phrase(phrase, n):\n",
    "    phrase_normal = normalize(phrase)\n",
    "    phrase_lemma = lemmatize(phrase_normal)\n",
    "    phrase_doc = nlp(phrase_lemma)\n",
    "    \n",
    "    term_vector = term_data['term_doc'].apply(phrase_doc.similarity)\n",
    "    term_vector.index = term_data['term']\n",
    "    \n",
    "    head_index = term_vector.sort_values(ascending=False).head(n).index\n",
    "    term_vector[~term_vector.index.isin(head_index)] = 0\n",
    "    term_vector /= n\n",
    "    \n",
    "    return term_vector\n",
    "\n",
    "# Get term vector from phrase\n",
    "# term_vector = get_term_from_phrase(\"I feel good\", 3)\n",
    "\n",
    "# Display top terms\n",
    "# term_vector.sort_values(ascending=False).head()"
   ]
  },
  {
   "cell_type": "code",
   "execution_count": 151,
   "metadata": {},
   "outputs": [],
   "source": [
    "def get_video_from_term(term_vector):\n",
    "#     print(video_term_data.shape, term_vector.shape)\n",
    "    video_vector = video_term_data.dot(term_vector)\n",
    "#     print(video_vector.shape)\n",
    "    return video_vector"
   ]
  },
  {
   "cell_type": "code",
   "execution_count": 152,
   "metadata": {},
   "outputs": [],
   "source": [
    "def get_dimension_from_video(video_vector):\n",
    "#     print(video_vector.shape, video_dimension_data.shape)\n",
    "    dimension_vector = video_vector.dot(video_dimension_data)\n",
    "#     print(dimension_vector.shape)\n",
    "    return dimension_vector"
   ]
  },
  {
   "cell_type": "code",
   "execution_count": 153,
   "metadata": {},
   "outputs": [],
   "source": [
    "def get_distinct_category_from_video(video_vector):\n",
    "#     print(video_vector.shape, video_distinct_category_data.shape)\n",
    "    distinct_category_vector = video_vector.dot(video_distinct_category_data)\n",
    "#     print(distinct_category_vector.shape)\n",
    "    return distinct_category_vector"
   ]
  },
  {
   "cell_type": "code",
   "execution_count": 161,
   "metadata": {},
   "outputs": [],
   "source": [
    "def interpret_phrase(phrase):\n",
    "    term_vector = get_term_from_phrase(phrase, 3)\n",
    "    print('FREE RESPONSE TERMS:\\n', term_vector.sort_values(ascending=False).head(), '\\n')\n",
    "    \n",
    "    video_vector = get_video_from_term(term_vector)\n",
    "    \n",
    "    dimension_vector = get_dimension_from_video(video_vector)\n",
    "    \n",
    "    print('AFFECTIVE DEMENSIONS:\\n', dimension_vector, '\\n')\n",
    "    \n",
    "    distinct_category_vector = get_distinct_category_from_video(video_vector)\n",
    "    \n",
    "    print('DISTINCT CATEGORIES:\\n', distinct_category_vector.sort_values(ascending=False), '\\n')\n"
   ]
  },
  {
   "cell_type": "code",
   "execution_count": 164,
   "metadata": {},
   "outputs": [
    {
     "name": "stdout",
     "output_type": "stream",
     "text": [
      "FREE RESPONSE TERMS:\n",
      " term\n",
      "feeling strong         0.255394\n",
      "feeling important      0.254808\n",
      "feeling impressed      0.247989\n",
      "feeling appreciated    0.000000\n",
      "feeling appalled       0.000000\n",
      "Name: term_doc, dtype: float64 \n",
      "\n",
      "AFFECTIVE DEMENSIONS:\n",
      " approach       53.173297\n",
      "arousal        58.664934\n",
      "attention      62.393080\n",
      "certainty      52.095370\n",
      "commitment     50.763248\n",
      "control        62.637727\n",
      "dominance      48.036224\n",
      "effort         28.497934\n",
      "fairness       56.242721\n",
      "identity       46.696514\n",
      "obstruction    31.360040\n",
      "safety         50.396859\n",
      "upswing        64.373175\n",
      "valence        59.619534\n",
      "dtype: float64 \n",
      "\n",
      "DISTINCT CATEGORIES:\n",
      " Amusement                 2.742263\n",
      "Interest                  2.016617\n",
      "Awe                       1.913169\n",
      "Surprise                  1.507147\n",
      "Admiration                1.016044\n",
      "Excitement                0.903494\n",
      "Satisfaction              0.900492\n",
      "Aesthetic Appreciation    0.746237\n",
      "Joy                       0.594186\n",
      "Entrancement              0.588361\n",
      "Anxiety                   0.393322\n",
      "Adoration                 0.350541\n",
      "Confusion                 0.344571\n",
      "Boredom                   0.336751\n",
      "Fear                      0.308929\n",
      "Calmness                  0.253547\n",
      "Relief                    0.191494\n",
      "Disgust                   0.151030\n",
      "Nostalgia                 0.139505\n",
      "Horror                    0.130745\n",
      "Empathic Pain             0.117021\n",
      "Awkwardness               0.102678\n",
      "Craving                   0.098326\n",
      "Sadness                   0.090662\n",
      "Romance                   0.045621\n",
      "Anger                     0.033387\n",
      "dtype: float64 \n",
      "\n"
     ]
    }
   ],
   "source": [
    "interpret_phrase('very good')"
   ]
  },
  {
   "cell_type": "code",
   "execution_count": null,
   "metadata": {},
   "outputs": [],
   "source": []
  }
 ],
 "metadata": {
  "kernelspec": {
   "display_name": "Python 3",
   "language": "python",
   "name": "python3"
  },
  "language_info": {
   "codemirror_mode": {
    "name": "ipython",
    "version": 3
   },
   "file_extension": ".py",
   "mimetype": "text/x-python",
   "name": "python",
   "nbconvert_exporter": "python",
   "pygments_lexer": "ipython3",
   "version": "3.6.5"
  }
 },
 "nbformat": 4,
 "nbformat_minor": 2
}
